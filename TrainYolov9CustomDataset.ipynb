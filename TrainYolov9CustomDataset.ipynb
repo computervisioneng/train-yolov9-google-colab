{
  "nbformat": 4,
  "nbformat_minor": 0,
  "metadata": {
    "colab": {
      "provenance": [],
      "gpuType": "T4"
    },
    "kernelspec": {
      "name": "python3",
      "display_name": "Python 3"
    },
    "language_info": {
      "name": "python"
    },
    "accelerator": "GPU"
  },
  "cells": [
    {
      "cell_type": "code",
      "execution_count": null,
      "metadata": {
        "id": "eNRA22QGKEZ8",
        "colab": {
          "base_uri": "https://localhost:8080/"
        },
        "outputId": "6b2b1b7a-0038-44a1-cb82-ba4b3923d347"
      },
      "outputs": [
        {
          "output_type": "stream",
          "name": "stdout",
          "text": [
            "Drive already mounted at /content/gdrive; to attempt to forcibly remount, call drive.mount(\"/content/gdrive\", force_remount=True).\n"
          ]
        }
      ],
      "source": [
        "### 0. Mount Google Drive ###\n",
        "\n",
        "from google.colab import drive\n",
        "drive.mount('/content/gdrive')"
      ]
    },
    {
      "cell_type": "code",
      "source": [
        "### 1. Prepare data ###\n",
        "\n",
        "!scp '/content/gdrive/My Drive/Yolov9ObjectDetectionGoogleColab/data.zip' '/content/data.zip'\n",
        "\n",
        "!unzip '/content/data.zip' -d '/content/'"
      ],
      "metadata": {
        "id": "kd1E7c4pKFYO"
      },
      "execution_count": null,
      "outputs": []
    },
    {
      "cell_type": "code",
      "source": [
        "### 2. Clone repository ###\n",
        "\n",
        "!git clone https://github.com/computervisioneng/yolov9\n",
        "\n",
        "%cd yolov9"
      ],
      "metadata": {
        "id": "73Vb0XJGKIkM"
      },
      "execution_count": null,
      "outputs": []
    },
    {
      "cell_type": "code",
      "source": [
        "### 3. Install requirements ###\n",
        "\n",
        "!pip install -r requirements.txt"
      ],
      "metadata": {
        "id": "8otSfK3gKJvy"
      },
      "execution_count": null,
      "outputs": []
    },
    {
      "cell_type": "code",
      "source": [
        "### 4. Train model ###\n",
        "\n",
        "from yolov9 import Yolov9\n",
        "\n",
        "model = Yolov9('object-detection')\n",
        "\n",
        "model.train(data='/content/gdrive/My Drive/Yolov9ObjectDetectionGoogleColab/data.yaml', epochs=10)"
      ],
      "metadata": {
        "id": "u9Hh-_jRKLn4"
      },
      "execution_count": null,
      "outputs": []
    },
    {
      "cell_type": "code",
      "source": [
        "### 5. Copy results ###\n",
        "\n",
        "!zip -r /content/runs.zip /content/yolov9/runs\n",
        "\n",
        "!scp '/content/runs.zip' '/content/gdrive/My Drive/Yolov9ObjectDetectionGoogleColab/runs.zip'"
      ],
      "metadata": {
        "id": "p3n1PTkXKMy6"
      },
      "execution_count": null,
      "outputs": []
    }
  ]
}